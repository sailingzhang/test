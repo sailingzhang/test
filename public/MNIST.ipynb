{
 "cells": [
  {
   "cell_type": "code",
   "execution_count": 63,
   "metadata": {},
   "outputs": [
    {
     "name": "stdout",
     "output_type": "stream",
     "text": [
      "sklearn version= 0.20.2\n"
     ]
    }
   ],
   "source": [
    "import log_init\n",
    "import logging\n",
    "import mnist_diy\n",
    "import numpy as np\n",
    "import matplotlib as mpl\n",
    "import matplotlib.pyplot as plt\n",
    "import pandas as pd\n",
    "import sklearn\n",
    "import sklearn.multiclass  as multiclass\n",
    "\n",
    "log_init.log_init()\n",
    "logging.debug(\"hello world\")\n",
    "print(\"sklearn version=\",sklearn.__version__)"
   ]
  },
  {
   "cell_type": "code",
   "execution_count": 64,
   "metadata": {
    "collapsed": true
   },
   "outputs": [],
   "source": [
    "traindata =list(mnist_diy.read(dataset=\"training\",path=\".\"))\n",
    "testdata =list(mnist_diy.read(dataset=\"testing\",path=\".\"))"
   ]
  },
  {
   "cell_type": "code",
   "execution_count": 65,
   "metadata": {
    "collapsed": true
   },
   "outputs": [],
   "source": [
    "y_train =[x[0] for x in traindata]\n",
    "X_train =[x[1] for x in traindata]\n",
    "y_test =[x[0] for x in testdata]\n",
    "X_test =[x[1] for x in testdata]\n",
    "\n",
    "X_train =pd.DataFrame(np.array(X_train).reshape(len(X_train),28*28))\n",
    "y_train =pd.DataFrame(np.array(y_train).reshape(len(y_train),1))\n",
    "X_test =pd.DataFrame(np.array(X_test).reshape(len(X_test),28*28))\n",
    "y_test =pd.DataFrame(np.array(y_test).reshape(len(y_test),1))\n",
    "y_train_5 = (y_train ==5)\n",
    "y_test_5 = (y_test == 5)\n",
    "\n",
    "# print(\"type=\",typey_train)\n",
    "# plt.imshow(X_train[25],cmap=mpl.cm.binary)\n",
    "# plt.show()\n"
   ]
  },
  {
   "cell_type": "code",
   "execution_count": 66,
   "metadata": {},
   "outputs": [
    {
     "name": "stderr",
     "output_type": "stream",
     "text": [
      "C:\\softwareInstall\\anaconda\\lib\\site-packages\\sklearn\\linear_model\\stochastic_gradient.py:166: FutureWarning: max_iter and tol parameters have been added in SGDClassifier in 0.19. If both are left unset, they default to max_iter=5 and tol=None. If tol is not None, max_iter defaults to max_iter=1000. From 0.21, default max_iter will be 1000, and default tol will be 1e-3.\n",
      "  FutureWarning)\n",
      "C:\\softwareInstall\\anaconda\\lib\\site-packages\\sklearn\\utils\\validation.py:761: DataConversionWarning: A column-vector y was passed when a 1d array was expected. Please change the shape of y to (n_samples, ), for example using ravel().\n",
      "  y = column_or_1d(y, warn=True)\n"
     ]
    }
   ],
   "source": [
    "from sklearn.linear_model import SGDClassifier\n",
    "sgd_clf = SGDClassifier(random_state=42)\n",
    "sgd_clf.fit(X_train,y_train_5)\n",
    "predict_ret =sgd_clf.predict(X_test[:100])\n",
    "# print(\"predict_ret=\",predict_ret)\n",
    "# print(\"real_ret=\",y_test_5[:100])"
   ]
  },
  {
   "cell_type": "code",
   "execution_count": 67,
   "metadata": {},
   "outputs": [
    {
     "data": {
      "text/plain": [
       "array([0.91125, 0.90855, 0.90915])"
      ]
     },
     "execution_count": 67,
     "metadata": {},
     "output_type": "execute_result"
    }
   ],
   "source": [
    "from sklearn.model_selection import cross_val_score,cross_val_predict\n",
    "from sklearn.base import BaseEstimator\n",
    "\n",
    "class dumbClassifier(BaseEstimator):\n",
    "    def fit(self,X,y=None):\n",
    "        pass\n",
    "    def predict(self,X):\n",
    "        return np.zeros((len(X),1),dtype=bool)\n",
    "\n",
    "sgd_clf2 = SGDClassifier(random_state=42)\n",
    "dumb_clf = dumbClassifier()\n",
    "cross_val_score(dumb_clf,X_train,y_train_5,cv=3,scoring=\"accuracy\")\n"
   ]
  },
  {
   "cell_type": "code",
   "execution_count": 68,
   "metadata": {},
   "outputs": [
    {
     "name": "stderr",
     "output_type": "stream",
     "text": [
      "C:\\softwareInstall\\anaconda\\lib\\site-packages\\sklearn\\linear_model\\stochastic_gradient.py:166: FutureWarning: max_iter and tol parameters have been added in SGDClassifier in 0.19. If both are left unset, they default to max_iter=5 and tol=None. If tol is not None, max_iter defaults to max_iter=1000. From 0.21, default max_iter will be 1000, and default tol will be 1e-3.\n",
      "  FutureWarning)\n",
      "C:\\softwareInstall\\anaconda\\lib\\site-packages\\sklearn\\utils\\validation.py:761: DataConversionWarning: A column-vector y was passed when a 1d array was expected. Please change the shape of y to (n_samples, ), for example using ravel().\n",
      "  y = column_or_1d(y, warn=True)\n",
      "C:\\softwareInstall\\anaconda\\lib\\site-packages\\sklearn\\linear_model\\stochastic_gradient.py:166: FutureWarning: max_iter and tol parameters have been added in SGDClassifier in 0.19. If both are left unset, they default to max_iter=5 and tol=None. If tol is not None, max_iter defaults to max_iter=1000. From 0.21, default max_iter will be 1000, and default tol will be 1e-3.\n",
      "  FutureWarning)\n",
      "C:\\softwareInstall\\anaconda\\lib\\site-packages\\sklearn\\utils\\validation.py:761: DataConversionWarning: A column-vector y was passed when a 1d array was expected. Please change the shape of y to (n_samples, ), for example using ravel().\n",
      "  y = column_or_1d(y, warn=True)\n",
      "C:\\softwareInstall\\anaconda\\lib\\site-packages\\sklearn\\linear_model\\stochastic_gradient.py:166: FutureWarning: max_iter and tol parameters have been added in SGDClassifier in 0.19. If both are left unset, they default to max_iter=5 and tol=None. If tol is not None, max_iter defaults to max_iter=1000. From 0.21, default max_iter will be 1000, and default tol will be 1e-3.\n",
      "  FutureWarning)\n",
      "C:\\softwareInstall\\anaconda\\lib\\site-packages\\sklearn\\utils\\validation.py:761: DataConversionWarning: A column-vector y was passed when a 1d array was expected. Please change the shape of y to (n_samples, ), for example using ravel().\n",
      "  y = column_or_1d(y, warn=True)\n"
     ]
    },
    {
     "name": "stdout",
     "output_type": "stream",
     "text": [
      "len(y_train_pred)= 60000 \n",
      "confusion_matrix=\n",
      " [[52992  1587]\n",
      " [ 1074  4347]]\n",
      "precision_ret= 0.7325581395348837  recall_ret= 0.8018815716657444\n"
     ]
    }
   ],
   "source": [
    "from sklearn.metrics import confusion_matrix,precision_score,recall_score\n",
    "y_train_pred = cross_val_predict(sgd_clf,X_train,y_train_5,cv=3)\n",
    "confusion_matrix_ret = confusion_matrix(y_train_5,y_train_pred)\n",
    "precision_score_ret = precision_score(y_train_5,y_train_pred)\n",
    "recall_score_ret = recall_score(y_train_5,y_train_pred)\n",
    "print(\"len(y_train_pred)=\",len(y_train_pred),\"\\nconfusion_matrix=\\n\",confusion_matrix_ret)\n",
    "print(\"precision_ret=\",precision_score_ret,\" recall_ret=\",recall_score_ret)"
   ]
  },
  {
   "cell_type": "code",
   "execution_count": 69,
   "metadata": {},
   "outputs": [
    {
     "name": "stdout",
     "output_type": "stream",
     "text": [
      "precision_len= 9747  recalls_len= 9747  thresholds_len 9746\n"
     ]
    },
    {
     "data": {
      "image/png": "[encoded data removed]",
      "text/plain": [
       "<matplotlib.figure.Figure at 0x1df554d1320>"
      ]
     },
     "metadata": {},
     "output_type": "display_data"
    },
    {
     "data": {
      "image/png": "[encoded data removed]",
      "text/plain": [
       "<matplotlib.figure.Figure at 0x1df50187f60>"
      ]
     },
     "metadata": {},
     "output_type": "display_data"
    },
    {
     "data": {
      "image/png": "[encoded data removed]",
      "text/plain": [
       "<matplotlib.figure.Figure at 0x1df1de32ba8>"
      ]
     },
     "metadata": {},
     "output_type": "display_data"
    }
   ],
   "source": [
    "import operator\n",
    "def plot_precision_recall_vs_threshold(precisions,recalls,thresholds):\n",
    "    plt.plot(thresholds,precisions[:-1],\"b--\",label=\"Precision\")\n",
    "    plt.plot(thresholds,recalls[:-1],\"g-\",label=\"Recall\")\n",
    "    plt.xlabel(\"Threshold\")\n",
    "    plt.legend(loc=\"upper left\")\n",
    "#     plt.ylim([0,1])\n",
    "    \n",
    "\n",
    "\n",
    "\n",
    "nothreshold_predict =sgd_clf.predict(X_test)\n",
    "score_predict =sgd_clf.decision_function(X_test)\n",
    "precision,recalls,thresholds = sklearn.metrics.precision_recall_curve(y_test_5,score_predict)\n",
    "fpr,tpr,roc_thresholds = sklearn.metrics.roc_curve(y_test_5,score_predict)\n",
    "roc_aux_score =sklearn.metrics.roc_auc_score(y_test_5,score_predict)\n",
    "\n",
    "\n",
    "print(\"precision_len=\",len(precision),\" recalls_len=\",len(recalls),\" thresholds_len\",len(thresholds))\n",
    "plot_precision_recall_vs_threshold(precision,recalls,thresholds)\n",
    "plt.show()\n",
    "plt.plot(recalls,precision,\"g-\",label=\"recallVSprecision\")\n",
    "plt.show()\n",
    "\n",
    "plt.plot(fpr,tpr,linewidth=2)\n",
    "plt.plot([0,1],[0,1],\"k--\")\n",
    "plt.xlabel(\"FPR\")\n",
    "plt.ylabel(\"TPR\")\n",
    "# plt.annotate(\"aux=\"+str(roc_aux_score))\n",
    "plt.show()\n",
    "\n",
    "\n",
    "\n",
    "# threshold= 300000\n",
    "# threshold_predict=(score_predict>threshold)\n",
    "# print(\"nothreshold=\",nothreshold_predict)\n",
    "# print(\"score_predict=\",score_predict)\n",
    "# print(\"threshold=\",threshold_predict)\n",
    "# print(\"cmpret=\",operator.eq(nothreshold_predict,threshold_predict))\n"
   ]
  },
  {
   "cell_type": "code",
   "execution_count": 70,
   "metadata": {},
   "outputs": [
    {
     "name": "stderr",
     "output_type": "stream",
     "text": [
      "C:\\softwareInstall\\anaconda\\lib\\site-packages\\sklearn\\linear_model\\stochastic_gradient.py:166: FutureWarning: max_iter and tol parameters have been added in SGDClassifier in 0.19. If both are left unset, they default to max_iter=5 and tol=None. If tol is not None, max_iter defaults to max_iter=1000. From 0.21, default max_iter will be 1000, and default tol will be 1e-3.\n",
      "  FutureWarning)\n",
      "C:\\softwareInstall\\anaconda\\lib\\site-packages\\sklearn\\utils\\validation.py:761: DataConversionWarning: A column-vector y was passed when a 1d array was expected. Please change the shape of y to (n_samples, ), for example using ravel().\n",
      "  y = column_or_1d(y, warn=True)\n"
     ]
    },
    {
     "name": "stdout",
     "output_type": "stream",
     "text": [
      "predict_ret= [7 2 1 0 4 1 4 9 6 9]\n",
      "y_test=    0\n",
      "0  7\n",
      "1  2\n",
      "2  1\n",
      "3  0\n",
      "4  4\n",
      "5  1\n",
      "6  4\n",
      "7  9\n",
      "8  5\n",
      "9  9\n"
     ]
    },
    {
     "name": "stderr",
     "output_type": "stream",
     "text": [
      "C:\\softwareInstall\\anaconda\\lib\\site-packages\\sklearn\\linear_model\\stochastic_gradient.py:166: FutureWarning: max_iter and tol parameters have been added in SGDClassifier in 0.19. If both are left unset, they default to max_iter=5 and tol=None. If tol is not None, max_iter defaults to max_iter=1000. From 0.21, default max_iter will be 1000, and default tol will be 1e-3.\n",
      "  FutureWarning)\n",
      "C:\\softwareInstall\\anaconda\\lib\\site-packages\\sklearn\\utils\\validation.py:761: DataConversionWarning: A column-vector y was passed when a 1d array was expected. Please change the shape of y to (n_samples, ), for example using ravel().\n",
      "  y = column_or_1d(y, warn=True)\n",
      "C:\\softwareInstall\\anaconda\\lib\\site-packages\\sklearn\\linear_model\\stochastic_gradient.py:166: FutureWarning: max_iter and tol parameters have been added in SGDClassifier in 0.19. If both are left unset, they default to max_iter=5 and tol=None. If tol is not None, max_iter defaults to max_iter=1000. From 0.21, default max_iter will be 1000, and default tol will be 1e-3.\n",
      "  FutureWarning)\n",
      "C:\\softwareInstall\\anaconda\\lib\\site-packages\\sklearn\\utils\\validation.py:761: DataConversionWarning: A column-vector y was passed when a 1d array was expected. Please change the shape of y to (n_samples, ), for example using ravel().\n",
      "  y = column_or_1d(y, warn=True)\n",
      "C:\\softwareInstall\\anaconda\\lib\\site-packages\\sklearn\\linear_model\\stochastic_gradient.py:166: FutureWarning: max_iter and tol parameters have been added in SGDClassifier in 0.19. If both are left unset, they default to max_iter=5 and tol=None. If tol is not None, max_iter defaults to max_iter=1000. From 0.21, default max_iter will be 1000, and default tol will be 1e-3.\n",
      "  FutureWarning)\n",
      "C:\\softwareInstall\\anaconda\\lib\\site-packages\\sklearn\\utils\\validation.py:761: DataConversionWarning: A column-vector y was passed when a 1d array was expected. Please change the shape of y to (n_samples, ), for example using ravel().\n",
      "  y = column_or_1d(y, warn=True)\n"
     ]
    },
    {
     "name": "stdout",
     "output_type": "stream",
     "text": [
      "noscale_cross_score= [0.86872625 0.87639382 0.87848177]\n"
     ]
    },
    {
     "name": "stderr",
     "output_type": "stream",
     "text": [
      "C:\\softwareInstall\\anaconda\\lib\\site-packages\\sklearn\\linear_model\\stochastic_gradient.py:166: FutureWarning: max_iter and tol parameters have been added in SGDClassifier in 0.19. If both are left unset, they default to max_iter=5 and tol=None. If tol is not None, max_iter defaults to max_iter=1000. From 0.21, default max_iter will be 1000, and default tol will be 1e-3.\n",
      "  FutureWarning)\n",
      "C:\\softwareInstall\\anaconda\\lib\\site-packages\\sklearn\\utils\\validation.py:761: DataConversionWarning: A column-vector y was passed when a 1d array was expected. Please change the shape of y to (n_samples, ), for example using ravel().\n",
      "  y = column_or_1d(y, warn=True)\n",
      "C:\\softwareInstall\\anaconda\\lib\\site-packages\\sklearn\\linear_model\\stochastic_gradient.py:166: FutureWarning: max_iter and tol parameters have been added in SGDClassifier in 0.19. If both are left unset, they default to max_iter=5 and tol=None. If tol is not None, max_iter defaults to max_iter=1000. From 0.21, default max_iter will be 1000, and default tol will be 1e-3.\n",
      "  FutureWarning)\n",
      "C:\\softwareInstall\\anaconda\\lib\\site-packages\\sklearn\\utils\\validation.py:761: DataConversionWarning: A column-vector y was passed when a 1d array was expected. Please change the shape of y to (n_samples, ), for example using ravel().\n",
      "  y = column_or_1d(y, warn=True)\n",
      "C:\\softwareInstall\\anaconda\\lib\\site-packages\\sklearn\\linear_model\\stochastic_gradient.py:166: FutureWarning: max_iter and tol parameters have been added in SGDClassifier in 0.19. If both are left unset, they default to max_iter=5 and tol=None. If tol is not None, max_iter defaults to max_iter=1000. From 0.21, default max_iter will be 1000, and default tol will be 1e-3.\n",
      "  FutureWarning)\n",
      "C:\\softwareInstall\\anaconda\\lib\\site-packages\\sklearn\\utils\\validation.py:761: DataConversionWarning: A column-vector y was passed when a 1d array was expected. Please change the shape of y to (n_samples, ), for example using ravel().\n",
      "  y = column_or_1d(y, warn=True)\n"
     ]
    },
    {
     "name": "stdout",
     "output_type": "stream",
     "text": [
      "scale_cross_score= [0.90736853 0.90884544 0.91363705]\n"
     ]
    }
   ],
   "source": [
    "sgd_clf_mul_oneVsAll = SGDClassifier(random_state=42)\n",
    "sgd_clf_mul_oneVsAll.fit(X_train,y_train)\n",
    "predict_ret = sgd_clf_mul_oneVsAll.predict(X_test[:10])\n",
    "print(\"predict_ret=\",predict_ret)\n",
    "print(\"y_test=\",y_test[:10])\n",
    "noscale_cross_score= cross_val_score(sgd_clf_mul_oneVsAll,X_train,y_train,cv=3,scoring=\"accuracy\")\n",
    "print(\"noscale_cross_score=\",noscale_cross_score)\n",
    "\n",
    "scaler = sklearn.preprocessing.StandardScaler()\n",
    "X_train_scaled =scaler.fit_transform(X_train.astype(np.float64))\n",
    "scale_cross_score = cross_val_score(sgd_clf_mul_oneVsAll,X_train_scaled,y_train,cv=3,scoring=\"accuracy\")\n",
    "print(\"scale_cross_score=\",scale_cross_score)\n",
    "\n",
    "# sgd_clf_mul_oneVsone =SGDClassifier(random_state=42)\n",
    "# sgd_clf_mul_oneVsone= sklearn.multiclass.OneVsOneClassifier(sgd_clf_mul_oneVsone)\n",
    "# sgd_clf_mul_oneVsone.fit(X_train,y_train)\n",
    "# predict_ret = sgd_clf_mul_oneVsone.predict(X_test[:10])\n",
    "# print(\"predict_ret=\",predict_ret)\n",
    "# print(\"y_test=\",y_test[:10])\n",
    "\n"
   ]
  },
  {
   "cell_type": "code",
   "execution_count": 71,
   "metadata": {},
   "outputs": [
    {
     "name": "stderr",
     "output_type": "stream",
     "text": [
      "C:\\softwareInstall\\anaconda\\lib\\site-packages\\sklearn\\linear_model\\stochastic_gradient.py:166: FutureWarning: max_iter and tol parameters have been added in SGDClassifier in 0.19. If both are left unset, they default to max_iter=5 and tol=None. If tol is not None, max_iter defaults to max_iter=1000. From 0.21, default max_iter will be 1000, and default tol will be 1e-3.\n",
      "  FutureWarning)\n",
      "C:\\softwareInstall\\anaconda\\lib\\site-packages\\sklearn\\utils\\validation.py:761: DataConversionWarning: A column-vector y was passed when a 1d array was expected. Please change the shape of y to (n_samples, ), for example using ravel().\n",
      "  y = column_or_1d(y, warn=True)\n",
      "C:\\softwareInstall\\anaconda\\lib\\site-packages\\sklearn\\linear_model\\stochastic_gradient.py:166: FutureWarning: max_iter and tol parameters have been added in SGDClassifier in 0.19. If both are left unset, they default to max_iter=5 and tol=None. If tol is not None, max_iter defaults to max_iter=1000. From 0.21, default max_iter will be 1000, and default tol will be 1e-3.\n",
      "  FutureWarning)\n",
      "C:\\softwareInstall\\anaconda\\lib\\site-packages\\sklearn\\utils\\validation.py:761: DataConversionWarning: A column-vector y was passed when a 1d array was expected. Please change the shape of y to (n_samples, ), for example using ravel().\n",
      "  y = column_or_1d(y, warn=True)\n",
      "C:\\softwareInstall\\anaconda\\lib\\site-packages\\sklearn\\linear_model\\stochastic_gradient.py:166: FutureWarning: max_iter and tol parameters have been added in SGDClassifier in 0.19. If both are left unset, they default to max_iter=5 and tol=None. If tol is not None, max_iter defaults to max_iter=1000. From 0.21, default max_iter will be 1000, and default tol will be 1e-3.\n",
      "  FutureWarning)\n",
      "C:\\softwareInstall\\anaconda\\lib\\site-packages\\sklearn\\utils\\validation.py:761: DataConversionWarning: A column-vector y was passed when a 1d array was expected. Please change the shape of y to (n_samples, ), for example using ravel().\n",
      "  y = column_or_1d(y, warn=True)\n"
     ]
    }
   ],
   "source": [
    "y_train_pred =cross_val_predict(sgd_clf,X_train_scaled,y_train,cv=3)\n",
    "conf_mx = confusion_matrix(y_train,y_train_pred)\n"
   ]
  },
  {
   "cell_type": "code",
   "execution_count": 75,
   "metadata": {},
   "outputs": [
    {
     "name": "stdout",
     "output_type": "stream",
     "text": [
      "type(conf_mx)= <class 'numpy.ndarray'> [[5726    2   26   12   11   47   47    9   39    4]\n",
      " [   1 6479   42   33    8   39    8    9  113   10]\n",
      " [  55   35 5319  104   79   20  106   51  174   15]\n",
      " [  45   40  145 5372    3  210   33   50  135   98]\n",
      " [  17   26   38    8 5361    5   57   31   86  213]\n",
      " [  74   38   43  199   71 4584  116   26  175   95]\n",
      " [  33   22   43    2   42   90 5640    3   43    0]\n",
      " [  24   23   73   29   60   12    4 5774   18  248]\n",
      " [  49  165   73  150   16  153   50   24 5038  133]\n",
      " [  39   31   26   92  163   35    3  177   79 5304]]\n"
     ]
    },
    {
     "data": {
      "image/png": "[encoded data removed]",
      "text/plain": [
       "<matplotlib.figure.Figure at 0x1df51fe7a58>"
      ]
     },
     "metadata": {},
     "output_type": "display_data"
    },
    {
     "name": "stdout",
     "output_type": "stream",
     "text": [
      "row_sums= [[5923]\n",
      " [6742]\n",
      " [5958]\n",
      " [6131]\n",
      " [5842]\n",
      " [5421]\n",
      " [5918]\n",
      " [6265]\n",
      " [5851]\n",
      " [5949]]\n",
      "norm_conf_xml= [[9.66739828e-01 3.37666723e-04 4.38966740e-03 2.02600034e-03\n",
      "  1.85716698e-03 7.93516799e-03 7.93516799e-03 1.51950025e-03\n",
      "  6.58450110e-03 6.75333446e-04]\n",
      " [1.48323939e-04 9.60990804e-01 6.22960546e-03 4.89469000e-03\n",
      "  1.18659152e-03 5.78463364e-03 1.18659152e-03 1.33491546e-03\n",
      "  1.67606052e-02 1.48323939e-03]\n",
      " [9.23128567e-03 5.87445451e-03 8.92749245e-01 1.74555220e-02\n",
      "  1.32594830e-02 3.35683115e-03 1.77912051e-02 8.55991944e-03\n",
      "  2.92044310e-02 2.51762336e-03]\n",
      " [7.33974882e-03 6.52422117e-03 2.36503017e-02 8.76202903e-01\n",
      "  4.89316588e-04 3.42521611e-02 5.38248247e-03 8.15527646e-03\n",
      "  2.20192465e-02 1.59843419e-02]\n",
      " [2.90996234e-03 4.45053064e-03 6.50462170e-03 1.36939404e-03\n",
      "  9.17665183e-01 8.55871277e-04 9.75693256e-03 5.30640192e-03\n",
      "  1.47209860e-02 3.64601164e-02]\n",
      " [1.36506180e-02 7.00977679e-03 7.93211585e-03 3.67090943e-02\n",
      "  1.30972145e-02 8.45600443e-01 2.13982660e-02 4.79616307e-03\n",
      "  3.22818668e-02 1.75244420e-02]\n",
      " [5.57620818e-03 3.71747212e-03 7.26596823e-03 3.37952011e-04\n",
      "  7.09699223e-03 1.52078405e-02 9.53024670e-01 5.06928016e-04\n",
      "  7.26596823e-03 0.00000000e+00]\n",
      " [3.83080607e-03 3.67118915e-03 1.16520351e-02 4.62889066e-03\n",
      "  9.57701516e-03 1.91540303e-03 6.38467678e-04 9.21628093e-01\n",
      "  2.87310455e-03 3.95849960e-02]\n",
      " [8.37463681e-03 2.82003076e-02 1.24764997e-02 2.56366433e-02\n",
      "  2.73457529e-03 2.61493762e-02 8.54554777e-03 4.10186293e-03\n",
      "  8.61049393e-01 2.27311571e-02]\n",
      " [6.55572365e-03 5.21095983e-03 4.37048243e-03 1.54647840e-02\n",
      "  2.73995630e-02 5.88334174e-03 5.04286435e-04 2.97528996e-02\n",
      "  1.32795428e-02 8.91578417e-01]]\n"
     ]
    },
    {
     "data": {
      "image/png": "[encoded data removed]",
      "text/plain": [
       "<matplotlib.figure.Figure at 0x1df1df1a2e8>"
      ]
     },
     "metadata": {},
     "output_type": "display_data"
    }
   ],
   "source": [
    "print(\"type(conf_mx)=\",type(conf_mx),conf_mx)\n",
    "plt.matshow(conf_mx,cmap=plt.cm.gray)\n",
    "plt.show()\n",
    "row_sums = conf_mx.sum(axis=1,keepdims=True)\n",
    "norm_conf_mx = conf_mx/row_sums\n",
    "print(\"row_sums=\",row_sums)\n",
    "print(\"norm_conf_xml=\",norm_conf_mx)\n",
    "np.fill_diagonal(norm_conf_mx,0)\n",
    "plt.matshow(norm_conf_mx,cmap=plt.cm.gray)\n",
    "plt.show()\n"
   ]
  },
  {
   "cell_type": "code",
   "execution_count": null,
   "metadata": {
    "collapsed": true
   },
   "outputs": [],
   "source": []
  }
 ],
 "metadata": {
  "kernelspec": {
   "display_name": "Python 3",
   "language": "python",
   "name": "python3"
  },
  "language_info": {
   "codemirror_mode": {
    "name": "ipython",
    "version": 3
   },
   "file_extension": ".py",
   "mimetype": "text/x-python",
   "name": "python",
   "nbconvert_exporter": "python",
   "pygments_lexer": "ipython3",
   "version": "3.6.3"
  }
 },
 "nbformat": 4,
 "nbformat_minor": 2
}
